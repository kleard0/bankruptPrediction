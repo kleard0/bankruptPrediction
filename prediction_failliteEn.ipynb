{
  "nbformat": 4,
  "nbformat_minor": 0,
  "metadata": {
    "colab": {
      "provenance": []
    },
    "kernelspec": {
      "name": "python3",
      "display_name": "Python 3"
    },
    "language_info": {
      "name": "python"
    }
  },
  "cells": [
    {
      "cell_type": "markdown",
      "source": [
        "# Importation des bibliothèques"
      ],
      "metadata": {
        "id": "uua-MIAVS2fa"
      }
    },
    {
      "cell_type": "code",
      "execution_count": null,
      "metadata": {
        "id": "PxFeG7byYNe5"
      },
      "outputs": [],
      "source": [
        "from google.colab import drive # pour importer le dataset depuis drive\n",
        "import pandas as pd # pr manipuler les dataframes\n",
        "import numpy as np # pour créer des matrices\n",
        "import matplotlib.pyplot as plt # pour tracer des graphiques\n",
        "import seaborn as sns # pour la visualisation de la data"
      ]
    },
    {
      "cell_type": "markdown",
      "source": [
        "# Chargement du dataset"
      ],
      "metadata": {
        "id": "U8kAi7w3Zb4P"
      }
    },
    {
      "cell_type": "code",
      "source": [
        "drive.mount('/content/drive')\n",
        "dataset = pd.read_csv('/content/drive/MyDrive/Projet-MachineLearning/dataset.csv') # chemin vers le dataset\n",
        "print(dataset.head())"
      ],
      "metadata": {
        "colab": {
          "base_uri": "https://localhost:8080/"
        },
        "id": "WNOISjIiW1Xc",
        "outputId": "5a45f912-000c-4f74-c80f-64df4ff6af23"
      },
      "execution_count": null,
      "outputs": [
        {
          "output_type": "stream",
          "name": "stdout",
          "text": [
            "Drive already mounted at /content/drive; to attempt to forcibly remount, call drive.mount(\"/content/drive\", force_remount=True).\n",
            "   Bankrupt?   ROA(C) before interest and depreciation before interest  \\\n",
            "0          1                                           0.370594          \n",
            "1          1                                           0.464291          \n",
            "2          1                                           0.426071          \n",
            "3          1                                           0.399844          \n",
            "4          1                                           0.465022          \n",
            "\n",
            "    ROA(A) before interest and % after tax  \\\n",
            "0                                 0.424389   \n",
            "1                                 0.538214   \n",
            "2                                 0.499019   \n",
            "3                                 0.451265   \n",
            "4                                 0.538432   \n",
            "\n",
            "    ROA(B) before interest and depreciation after tax  \\\n",
            "0                                           0.405750    \n",
            "1                                           0.516730    \n",
            "2                                           0.472295    \n",
            "3                                           0.457733    \n",
            "4                                           0.522298    \n",
            "\n",
            "    Operating Gross Margin   Realized Sales Gross Margin  \\\n",
            "0                 0.601457                      0.601457   \n",
            "1                 0.610235                      0.610235   \n",
            "2                 0.601450                      0.601364   \n",
            "3                 0.583541                      0.583541   \n",
            "4                 0.598783                      0.598783   \n",
            "\n",
            "    Operating Profit Rate   Pre-tax net Interest Rate  \\\n",
            "0                0.998969                    0.796887   \n",
            "1                0.998946                    0.797380   \n",
            "2                0.998857                    0.796403   \n",
            "3                0.998700                    0.796967   \n",
            "4                0.998973                    0.797366   \n",
            "\n",
            "    After-tax net Interest Rate   Non-industry income and expenditure/revenue  \\\n",
            "0                      0.808809                                      0.302646   \n",
            "1                      0.809301                                      0.303556   \n",
            "2                      0.808388                                      0.302035   \n",
            "3                      0.808966                                      0.303350   \n",
            "4                      0.809304                                      0.303475   \n",
            "\n",
            "   ...   Net Income to Total Assets   Total assets to GNP price  \\\n",
            "0  ...                     0.716845                    0.009219   \n",
            "1  ...                     0.795297                    0.008323   \n",
            "2  ...                     0.774670                    0.040003   \n",
            "3  ...                     0.739555                    0.003252   \n",
            "4  ...                     0.795016                    0.003878   \n",
            "\n",
            "    No-credit Interval   Gross Profit to Sales  \\\n",
            "0             0.622879                0.601453   \n",
            "1             0.623652                0.610237   \n",
            "2             0.623841                0.601449   \n",
            "3             0.622929                0.583538   \n",
            "4             0.623521                0.598782   \n",
            "\n",
            "    Net Income to Stockholder's Equity   Liability to Equity  \\\n",
            "0                             0.827890              0.290202   \n",
            "1                             0.839969              0.283846   \n",
            "2                             0.836774              0.290189   \n",
            "3                             0.834697              0.281721   \n",
            "4                             0.839973              0.278514   \n",
            "\n",
            "    Degree of Financial Leverage (DFL)  \\\n",
            "0                             0.026601   \n",
            "1                             0.264577   \n",
            "2                             0.026555   \n",
            "3                             0.026697   \n",
            "4                             0.024752   \n",
            "\n",
            "    Interest Coverage Ratio (Interest expense to EBIT)   Net Income Flag  \\\n",
            "0                                           0.564050                   1   \n",
            "1                                           0.570175                   1   \n",
            "2                                           0.563706                   1   \n",
            "3                                           0.564663                   1   \n",
            "4                                           0.575617                   1   \n",
            "\n",
            "    Equity to Liability  \n",
            "0              0.016469  \n",
            "1              0.020794  \n",
            "2              0.016474  \n",
            "3              0.023982  \n",
            "4              0.035490  \n",
            "\n",
            "[5 rows x 96 columns]\n"
          ]
        }
      ]
    },
    {
      "cell_type": "markdown",
      "source": [
        "# Comprendre le dataset"
      ],
      "metadata": {
        "id": "Fk8ODmKme5xR"
      }
    },
    {
      "cell_type": "code",
      "source": [
        "# Pour connaitre le taille du dataset\n",
        "print(dataset.shape)\n",
        "#print(dataset.columns)"
      ],
      "metadata": {
        "colab": {
          "base_uri": "https://localhost:8080/"
        },
        "id": "jm950kktes1l",
        "outputId": "0696117a-e580-46aa-815c-b25f70a25b34"
      },
      "execution_count": null,
      "outputs": [
        {
          "output_type": "stream",
          "name": "stdout",
          "text": [
            "(6819, 96)\n"
          ]
        }
      ]
    },
    {
      "cell_type": "markdown",
      "source": [
        "Il s'agit d'un gros dataset (96 features)"
      ],
      "metadata": {
        "id": "6_Ie0_DNg5Sz"
      }
    },
    {
      "cell_type": "markdown",
      "source": [],
      "metadata": {
        "id": "8Gyo7jlrg_i5"
      }
    },
    {
      "cell_type": "markdown",
      "source": [
        "# Séparation des features et de la cible"
      ],
      "metadata": {
        "id": "0CiUmwHgj3CR"
      }
    },
    {
      "cell_type": "code",
      "source": [
        "X = dataset.drop('Bankrupt?', axis=1)\n",
        "y = dataset['Bankrupt?']\n",
        "print(y.head())"
      ],
      "metadata": {
        "colab": {
          "base_uri": "https://localhost:8080/"
        },
        "id": "1l7QkWRtj8dU",
        "outputId": "185a7efb-1a72-4859-b96b-97712e880e1c"
      },
      "execution_count": null,
      "outputs": [
        {
          "output_type": "stream",
          "name": "stdout",
          "text": [
            "0    1\n",
            "1    1\n",
            "2    1\n",
            "3    1\n",
            "4    1\n",
            "Name: Bankrupt?, dtype: int64\n"
          ]
        }
      ]
    },
    {
      "cell_type": "markdown",
      "source": [
        "# Analyse des données"
      ],
      "metadata": {
        "id": "s_ONJt8RjDlA"
      }
    },
    {
      "cell_type": "code",
      "source": [
        "sns.set_style('whitegrid')\n",
        "sns.countplot(x='Bankrupt?', data=dataset, palette='RdBu_r')\n"
      ],
      "metadata": {
        "colab": {
          "base_uri": "https://localhost:8080/",
          "height": 553
        },
        "id": "iAkzG25xjGnb",
        "outputId": "433f7b5f-c91b-4dc8-abb9-5ea011f150b9"
      },
      "execution_count": null,
      "outputs": [
        {
          "output_type": "stream",
          "name": "stderr",
          "text": [
            "<ipython-input-95-926b75f218dc>:2: FutureWarning: \n",
            "\n",
            "Passing `palette` without assigning `hue` is deprecated and will be removed in v0.14.0. Assign the `x` variable to `hue` and set `legend=False` for the same effect.\n",
            "\n",
            "  sns.countplot(x='Bankrupt?', data=dataset, palette='RdBu_r')\n"
          ]
        },
        {
          "output_type": "execute_result",
          "data": {
            "text/plain": [
              "<Axes: xlabel='Bankrupt?', ylabel='count'>"
            ]
          },
          "metadata": {},
          "execution_count": 95
        },
        {
          "output_type": "display_data",
          "data": {
            "text/plain": [
              "<Figure size 640x480 with 1 Axes>"
            ],
            "image/png": "[encoded data removed]"
          },
          "metadata": {}
        }
      ]
    },
    {
      "cell_type": "markdown",
      "source": [
        "On remarque ici que la majorité des entreprises présentes dans le dataset ne sont pas en faillite , environ 6600 pour environ 200 entreprises en faillite"
      ],
      "metadata": {
        "id": "U_7fWhO6oOny"
      }
    },
    {
      "cell_type": "code",
      "source": [
        "print(dataset.columns)"
      ],
      "metadata": {
        "colab": {
          "base_uri": "https://localhost:8080/"
        },
        "id": "LTYKr2tPqBq_",
        "outputId": "c29c32a5-c769-43fb-8b6d-b83d09f220a4"
      },
      "execution_count": null,
      "outputs": [
        {
          "output_type": "stream",
          "name": "stdout",
          "text": [
            "Index(['Bankrupt?', ' ROA(C) before interest and depreciation before interest',\n",
            "       ' ROA(A) before interest and % after tax',\n",
            "       ' ROA(B) before interest and depreciation after tax',\n",
            "       ' Operating Gross Margin', ' Realized Sales Gross Margin',\n",
            "       ' Operating Profit Rate', ' Pre-tax net Interest Rate',\n",
            "       ' After-tax net Interest Rate',\n",
            "       ' Non-industry income and expenditure/revenue',\n",
            "       ' Continuous interest rate (after tax)', ' Operating Expense Rate',\n",
            "       ' Research and development expense rate', ' Cash flow rate',\n",
            "       ' Interest-bearing debt interest rate', ' Tax rate (A)',\n",
            "       ' Net Value Per Share (B)', ' Net Value Per Share (A)',\n",
            "       ' Net Value Per Share (C)', ' Persistent EPS in the Last Four Seasons',\n",
            "       ' Cash Flow Per Share', ' Revenue Per Share (Yuan ¥)',\n",
            "       ' Operating Profit Per Share (Yuan ¥)',\n",
            "       ' Per Share Net profit before tax (Yuan ¥)',\n",
            "       ' Realized Sales Gross Profit Growth Rate',\n",
            "       ' Operating Profit Growth Rate', ' After-tax Net Profit Growth Rate',\n",
            "       ' Regular Net Profit Growth Rate', ' Continuous Net Profit Growth Rate',\n",
            "       ' Total Asset Growth Rate', ' Net Value Growth Rate',\n",
            "       ' Total Asset Return Growth Rate Ratio', ' Cash Reinvestment %',\n",
            "       ' Current Ratio', ' Quick Ratio', ' Interest Expense Ratio',\n",
            "       ' Total debt/Total net worth', ' Debt ratio %', ' Net worth/Assets',\n",
            "       ' Long-term fund suitability ratio (A)', ' Borrowing dependency',\n",
            "       ' Contingent liabilities/Net worth',\n",
            "       ' Operating profit/Paid-in capital',\n",
            "       ' Net profit before tax/Paid-in capital',\n",
            "       ' Inventory and accounts receivable/Net value', ' Total Asset Turnover',\n",
            "       ' Accounts Receivable Turnover', ' Average Collection Days',\n",
            "       ' Inventory Turnover Rate (times)', ' Fixed Assets Turnover Frequency',\n",
            "       ' Net Worth Turnover Rate (times)', ' Revenue per person',\n",
            "       ' Operating profit per person', ' Allocation rate per person',\n",
            "       ' Working Capital to Total Assets', ' Quick Assets/Total Assets',\n",
            "       ' Current Assets/Total Assets', ' Cash/Total Assets',\n",
            "       ' Quick Assets/Current Liability', ' Cash/Current Liability',\n",
            "       ' Current Liability to Assets', ' Operating Funds to Liability',\n",
            "       ' Inventory/Working Capital', ' Inventory/Current Liability',\n",
            "       ' Current Liabilities/Liability', ' Working Capital/Equity',\n",
            "       ' Current Liabilities/Equity', ' Long-term Liability to Current Assets',\n",
            "       ' Retained Earnings to Total Assets', ' Total income/Total expense',\n",
            "       ' Total expense/Assets', ' Current Asset Turnover Rate',\n",
            "       ' Quick Asset Turnover Rate', ' Working capitcal Turnover Rate',\n",
            "       ' Cash Turnover Rate', ' Cash Flow to Sales', ' Fixed Assets to Assets',\n",
            "       ' Current Liability to Liability', ' Current Liability to Equity',\n",
            "       ' Equity to Long-term Liability', ' Cash Flow to Total Assets',\n",
            "       ' Cash Flow to Liability', ' CFO to Assets', ' Cash Flow to Equity',\n",
            "       ' Current Liability to Current Assets', ' Liability-Assets Flag',\n",
            "       ' Net Income to Total Assets', ' Total assets to GNP price',\n",
            "       ' No-credit Interval', ' Gross Profit to Sales',\n",
            "       ' Net Income to Stockholder's Equity', ' Liability to Equity',\n",
            "       ' Degree of Financial Leverage (DFL)',\n",
            "       ' Interest Coverage Ratio (Interest expense to EBIT)',\n",
            "       ' Net Income Flag', ' Equity to Liability'],\n",
            "      dtype='object')\n"
          ]
        }
      ]
    },
    {
      "cell_type": "code",
      "source": [
        "sns.histplot(dataset[' Net Value Per Share (A)'], kde=False, color=\"darkred\", bins=30)"
      ],
      "metadata": {
        "colab": {
          "base_uri": "https://localhost:8080/",
          "height": 466
        },
        "id": "EZFpZGIdn4Q4",
        "outputId": "e4b9eda1-b795-4a88-903d-f60d88b5e8ec"
      },
      "execution_count": null,
      "outputs": [
        {
          "output_type": "execute_result",
          "data": {
            "text/plain": [
              "<Axes: xlabel=' Net Value Per Share (A)', ylabel='Count'>"
            ]
          },
          "metadata": {},
          "execution_count": 97
        },
        {
          "output_type": "display_data",
          "data": {
            "text/plain": [
              "<Figure size 640x480 with 1 Axes>"
            ],
            "image/png": "[encoded data removed]"
          },
          "metadata": {}
        }
      ]
    },
    {
      "cell_type": "code",
      "source": [
        "print(dataset.info())"
      ],
      "metadata": {
        "colab": {
          "base_uri": "https://localhost:8080/"
        },
        "id": "1oOlWmKrrluA",
        "outputId": "ed322716-3d8e-4a63-c19e-751fedcb704a"
      },
      "execution_count": null,
      "outputs": [
        {
          "output_type": "stream",
          "name": "stdout",
          "text": [
            "<class 'pandas.core.frame.DataFrame'>\n",
            "RangeIndex: 6819 entries, 0 to 6818\n",
            "Data columns (total 96 columns):\n",
            " #   Column                                                    Non-Null Count  Dtype  \n",
            "---  ------                                                    --------------  -----  \n",
            " 0   Bankrupt?                                                 6819 non-null   int64  \n",
            " 1    ROA(C) before interest and depreciation before interest  6819 non-null   float64\n",
            " 2    ROA(A) before interest and % after tax                   6819 non-null   float64\n",
            " 3    ROA(B) before interest and depreciation after tax        6819 non-null   float64\n",
            " 4    Operating Gross Margin                                   6819 non-null   float64\n",
            " 5    Realized Sales Gross Margin                              6819 non-null   float64\n",
            " 6    Operating Profit Rate                                    6819 non-null   float64\n",
            " 7    Pre-tax net Interest Rate                                6819 non-null   float64\n",
            " 8    After-tax net Interest Rate                              6819 non-null   float64\n",
            " 9    Non-industry income and expenditure/revenue              6819 non-null   float64\n",
            " 10   Continuous interest rate (after tax)                     6819 non-null   float64\n",
            " 11   Operating Expense Rate                                   6819 non-null   float64\n",
            " 12   Research and development expense rate                    6819 non-null   float64\n",
            " 13   Cash flow rate                                           6819 non-null   float64\n",
            " 14   Interest-bearing debt interest rate                      6819 non-null   float64\n",
            " 15   Tax rate (A)                                             6819 non-null   float64\n",
            " 16   Net Value Per Share (B)                                  6819 non-null   float64\n",
            " 17   Net Value Per Share (A)                                  6819 non-null   float64\n",
            " 18   Net Value Per Share (C)                                  6819 non-null   float64\n",
            " 19   Persistent EPS in the Last Four Seasons                  6819 non-null   float64\n",
            " 20   Cash Flow Per Share                                      6819 non-null   float64\n",
            " 21   Revenue Per Share (Yuan ¥)                               6819 non-null   float64\n",
            " 22   Operating Profit Per Share (Yuan ¥)                      6819 non-null   float64\n",
            " 23   Per Share Net profit before tax (Yuan ¥)                 6819 non-null   float64\n",
            " 24   Realized Sales Gross Profit Growth Rate                  6819 non-null   float64\n",
            " 25   Operating Profit Growth Rate                             6819 non-null   float64\n",
            " 26   After-tax Net Profit Growth Rate                         6819 non-null   float64\n",
            " 27   Regular Net Profit Growth Rate                           6819 non-null   float64\n",
            " 28   Continuous Net Profit Growth Rate                        6819 non-null   float64\n",
            " 29   Total Asset Growth Rate                                  6819 non-null   float64\n",
            " 30   Net Value Growth Rate                                    6819 non-null   float64\n",
            " 31   Total Asset Return Growth Rate Ratio                     6819 non-null   float64\n",
            " 32   Cash Reinvestment %                                      6819 non-null   float64\n",
            " 33   Current Ratio                                            6819 non-null   float64\n",
            " 34   Quick Ratio                                              6819 non-null   float64\n",
            " 35   Interest Expense Ratio                                   6819 non-null   float64\n",
            " 36   Total debt/Total net worth                               6819 non-null   float64\n",
            " 37   Debt ratio %                                             6819 non-null   float64\n",
            " 38   Net worth/Assets                                         6819 non-null   float64\n",
            " 39   Long-term fund suitability ratio (A)                     6819 non-null   float64\n",
            " 40   Borrowing dependency                                     6819 non-null   float64\n",
            " 41   Contingent liabilities/Net worth                         6819 non-null   float64\n",
            " 42   Operating profit/Paid-in capital                         6819 non-null   float64\n",
            " 43   Net profit before tax/Paid-in capital                    6819 non-null   float64\n",
            " 44   Inventory and accounts receivable/Net value              6819 non-null   float64\n",
            " 45   Total Asset Turnover                                     6819 non-null   float64\n",
            " 46   Accounts Receivable Turnover                             6819 non-null   float64\n",
            " 47   Average Collection Days                                  6819 non-null   float64\n",
            " 48   Inventory Turnover Rate (times)                          6819 non-null   float64\n",
            " 49   Fixed Assets Turnover Frequency                          6819 non-null   float64\n",
            " 50   Net Worth Turnover Rate (times)                          6819 non-null   float64\n",
            " 51   Revenue per person                                       6819 non-null   float64\n",
            " 52   Operating profit per person                              6819 non-null   float64\n",
            " 53   Allocation rate per person                               6819 non-null   float64\n",
            " 54   Working Capital to Total Assets                          6819 non-null   float64\n",
            " 55   Quick Assets/Total Assets                                6819 non-null   float64\n",
            " 56   Current Assets/Total Assets                              6819 non-null   float64\n",
            " 57   Cash/Total Assets                                        6819 non-null   float64\n",
            " 58   Quick Assets/Current Liability                           6819 non-null   float64\n",
            " 59   Cash/Current Liability                                   6819 non-null   float64\n",
            " 60   Current Liability to Assets                              6819 non-null   float64\n",
            " 61   Operating Funds to Liability                             6819 non-null   float64\n",
            " 62   Inventory/Working Capital                                6819 non-null   float64\n",
            " 63   Inventory/Current Liability                              6819 non-null   float64\n",
            " 64   Current Liabilities/Liability                            6819 non-null   float64\n",
            " 65   Working Capital/Equity                                   6819 non-null   float64\n",
            " 66   Current Liabilities/Equity                               6819 non-null   float64\n",
            " 67   Long-term Liability to Current Assets                    6819 non-null   float64\n",
            " 68   Retained Earnings to Total Assets                        6819 non-null   float64\n",
            " 69   Total income/Total expense                               6819 non-null   float64\n",
            " 70   Total expense/Assets                                     6819 non-null   float64\n",
            " 71   Current Asset Turnover Rate                              6819 non-null   float64\n",
            " 72   Quick Asset Turnover Rate                                6819 non-null   float64\n",
            " 73   Working capitcal Turnover Rate                           6819 non-null   float64\n",
            " 74   Cash Turnover Rate                                       6819 non-null   float64\n",
            " 75   Cash Flow to Sales                                       6819 non-null   float64\n",
            " 76   Fixed Assets to Assets                                   6819 non-null   float64\n",
            " 77   Current Liability to Liability                           6819 non-null   float64\n",
            " 78   Current Liability to Equity                              6819 non-null   float64\n",
            " 79   Equity to Long-term Liability                            6819 non-null   float64\n",
            " 80   Cash Flow to Total Assets                                6819 non-null   float64\n",
            " 81   Cash Flow to Liability                                   6819 non-null   float64\n",
            " 82   CFO to Assets                                            6819 non-null   float64\n",
            " 83   Cash Flow to Equity                                      6819 non-null   float64\n",
            " 84   Current Liability to Current Assets                      6819 non-null   float64\n",
            " 85   Liability-Assets Flag                                    6819 non-null   int64  \n",
            " 86   Net Income to Total Assets                               6819 non-null   float64\n",
            " 87   Total assets to GNP price                                6819 non-null   float64\n",
            " 88   No-credit Interval                                       6819 non-null   float64\n",
            " 89   Gross Profit to Sales                                    6819 non-null   float64\n",
            " 90   Net Income to Stockholder's Equity                       6819 non-null   float64\n",
            " 91   Liability to Equity                                      6819 non-null   float64\n",
            " 92   Degree of Financial Leverage (DFL)                       6819 non-null   float64\n",
            " 93   Interest Coverage Ratio (Interest expense to EBIT)       6819 non-null   float64\n",
            " 94   Net Income Flag                                          6819 non-null   int64  \n",
            " 95   Equity to Liability                                      6819 non-null   float64\n",
            "dtypes: float64(93), int64(3)\n",
            "memory usage: 5.0 MB\n",
            "None\n"
          ]
        }
      ]
    },
    {
      "cell_type": "markdown",
      "source": [
        "Je vais maintenant supprimer les colonnes identiques"
      ],
      "metadata": {
        "id": "I7K75rLCydMb"
      }
    },
    {
      "cell_type": "code",
      "source": [
        "dataset = dataset.drop([' Net Value Per Share (B)', ' Net Value Per Share (C)'], axis=1)\n",
        "print(dataset.info())"
      ],
      "metadata": {
        "colab": {
          "base_uri": "https://localhost:8080/"
        },
        "id": "VBJZnf0NylBu",
        "outputId": "fc58f43e-62ba-473b-c668-ab252a7cf64a"
      },
      "execution_count": null,
      "outputs": [
        {
          "output_type": "stream",
          "name": "stdout",
          "text": [
            "<class 'pandas.core.frame.DataFrame'>\n",
            "RangeIndex: 6819 entries, 0 to 6818\n",
            "Data columns (total 94 columns):\n",
            " #   Column                                                    Non-Null Count  Dtype  \n",
            "---  ------                                                    --------------  -----  \n",
            " 0   Bankrupt?                                                 6819 non-null   int64  \n",
            " 1    ROA(C) before interest and depreciation before interest  6819 non-null   float64\n",
            " 2    ROA(A) before interest and % after tax                   6819 non-null   float64\n",
            " 3    ROA(B) before interest and depreciation after tax        6819 non-null   float64\n",
            " 4    Operating Gross Margin                                   6819 non-null   float64\n",
            " 5    Realized Sales Gross Margin                              6819 non-null   float64\n",
            " 6    Operating Profit Rate                                    6819 non-null   float64\n",
            " 7    Pre-tax net Interest Rate                                6819 non-null   float64\n",
            " 8    After-tax net Interest Rate                              6819 non-null   float64\n",
            " 9    Non-industry income and expenditure/revenue              6819 non-null   float64\n",
            " 10   Continuous interest rate (after tax)                     6819 non-null   float64\n",
            " 11   Operating Expense Rate                                   6819 non-null   float64\n",
            " 12   Research and development expense rate                    6819 non-null   float64\n",
            " 13   Cash flow rate                                           6819 non-null   float64\n",
            " 14   Interest-bearing debt interest rate                      6819 non-null   float64\n",
            " 15   Tax rate (A)                                             6819 non-null   float64\n",
            " 16   Net Value Per Share (A)                                  6819 non-null   float64\n",
            " 17   Persistent EPS in the Last Four Seasons                  6819 non-null   float64\n",
            " 18   Cash Flow Per Share                                      6819 non-null   float64\n",
            " 19   Revenue Per Share (Yuan ¥)                               6819 non-null   float64\n",
            " 20   Operating Profit Per Share (Yuan ¥)                      6819 non-null   float64\n",
            " 21   Per Share Net profit before tax (Yuan ¥)                 6819 non-null   float64\n",
            " 22   Realized Sales Gross Profit Growth Rate                  6819 non-null   float64\n",
            " 23   Operating Profit Growth Rate                             6819 non-null   float64\n",
            " 24   After-tax Net Profit Growth Rate                         6819 non-null   float64\n",
            " 25   Regular Net Profit Growth Rate                           6819 non-null   float64\n",
            " 26   Continuous Net Profit Growth Rate                        6819 non-null   float64\n",
            " 27   Total Asset Growth Rate                                  6819 non-null   float64\n",
            " 28   Net Value Growth Rate                                    6819 non-null   float64\n",
            " 29   Total Asset Return Growth Rate Ratio                     6819 non-null   float64\n",
            " 30   Cash Reinvestment %                                      6819 non-null   float64\n",
            " 31   Current Ratio                                            6819 non-null   float64\n",
            " 32   Quick Ratio                                              6819 non-null   float64\n",
            " 33   Interest Expense Ratio                                   6819 non-null   float64\n",
            " 34   Total debt/Total net worth                               6819 non-null   float64\n",
            " 35   Debt ratio %                                             6819 non-null   float64\n",
            " 36   Net worth/Assets                                         6819 non-null   float64\n",
            " 37   Long-term fund suitability ratio (A)                     6819 non-null   float64\n",
            " 38   Borrowing dependency                                     6819 non-null   float64\n",
            " 39   Contingent liabilities/Net worth                         6819 non-null   float64\n",
            " 40   Operating profit/Paid-in capital                         6819 non-null   float64\n",
            " 41   Net profit before tax/Paid-in capital                    6819 non-null   float64\n",
            " 42   Inventory and accounts receivable/Net value              6819 non-null   float64\n",
            " 43   Total Asset Turnover                                     6819 non-null   float64\n",
            " 44   Accounts Receivable Turnover                             6819 non-null   float64\n",
            " 45   Average Collection Days                                  6819 non-null   float64\n",
            " 46   Inventory Turnover Rate (times)                          6819 non-null   float64\n",
            " 47   Fixed Assets Turnover Frequency                          6819 non-null   float64\n",
            " 48   Net Worth Turnover Rate (times)                          6819 non-null   float64\n",
            " 49   Revenue per person                                       6819 non-null   float64\n",
            " 50   Operating profit per person                              6819 non-null   float64\n",
            " 51   Allocation rate per person                               6819 non-null   float64\n",
            " 52   Working Capital to Total Assets                          6819 non-null   float64\n",
            " 53   Quick Assets/Total Assets                                6819 non-null   float64\n",
            " 54   Current Assets/Total Assets                              6819 non-null   float64\n",
            " 55   Cash/Total Assets                                        6819 non-null   float64\n",
            " 56   Quick Assets/Current Liability                           6819 non-null   float64\n",
            " 57   Cash/Current Liability                                   6819 non-null   float64\n",
            " 58   Current Liability to Assets                              6819 non-null   float64\n",
            " 59   Operating Funds to Liability                             6819 non-null   float64\n",
            " 60   Inventory/Working Capital                                6819 non-null   float64\n",
            " 61   Inventory/Current Liability                              6819 non-null   float64\n",
            " 62   Current Liabilities/Liability                            6819 non-null   float64\n",
            " 63   Working Capital/Equity                                   6819 non-null   float64\n",
            " 64   Current Liabilities/Equity                               6819 non-null   float64\n",
            " 65   Long-term Liability to Current Assets                    6819 non-null   float64\n",
            " 66   Retained Earnings to Total Assets                        6819 non-null   float64\n",
            " 67   Total income/Total expense                               6819 non-null   float64\n",
            " 68   Total expense/Assets                                     6819 non-null   float64\n",
            " 69   Current Asset Turnover Rate                              6819 non-null   float64\n",
            " 70   Quick Asset Turnover Rate                                6819 non-null   float64\n",
            " 71   Working capitcal Turnover Rate                           6819 non-null   float64\n",
            " 72   Cash Turnover Rate                                       6819 non-null   float64\n",
            " 73   Cash Flow to Sales                                       6819 non-null   float64\n",
            " 74   Fixed Assets to Assets                                   6819 non-null   float64\n",
            " 75   Current Liability to Liability                           6819 non-null   float64\n",
            " 76   Current Liability to Equity                              6819 non-null   float64\n",
            " 77   Equity to Long-term Liability                            6819 non-null   float64\n",
            " 78   Cash Flow to Total Assets                                6819 non-null   float64\n",
            " 79   Cash Flow to Liability                                   6819 non-null   float64\n",
            " 80   CFO to Assets                                            6819 non-null   float64\n",
            " 81   Cash Flow to Equity                                      6819 non-null   float64\n",
            " 82   Current Liability to Current Assets                      6819 non-null   float64\n",
            " 83   Liability-Assets Flag                                    6819 non-null   int64  \n",
            " 84   Net Income to Total Assets                               6819 non-null   float64\n",
            " 85   Total assets to GNP price                                6819 non-null   float64\n",
            " 86   No-credit Interval                                       6819 non-null   float64\n",
            " 87   Gross Profit to Sales                                    6819 non-null   float64\n",
            " 88   Net Income to Stockholder's Equity                       6819 non-null   float64\n",
            " 89   Liability to Equity                                      6819 non-null   float64\n",
            " 90   Degree of Financial Leverage (DFL)                       6819 non-null   float64\n",
            " 91   Interest Coverage Ratio (Interest expense to EBIT)       6819 non-null   float64\n",
            " 92   Net Income Flag                                          6819 non-null   int64  \n",
            " 93   Equity to Liability                                      6819 non-null   float64\n",
            "dtypes: float64(91), int64(3)\n",
            "memory usage: 4.9 MB\n",
            "None\n"
          ]
        }
      ]
    },
    {
      "cell_type": "markdown",
      "source": [
        "Les données sont complètes"
      ],
      "metadata": {
        "id": "rElo4lUvrq5Q"
      }
    },
    {
      "cell_type": "code",
      "source": [
        "sns.heatmap(dataset.isnull(), cmap='viridis')"
      ],
      "metadata": {
        "colab": {
          "base_uri": "https://localhost:8080/",
          "height": 730
        },
        "id": "p1fxNKnHuhGP",
        "outputId": "dc320989-c6ec-4d3b-9090-e94a19e0d471"
      },
      "execution_count": null,
      "outputs": [
        {
          "output_type": "execute_result",
          "data": {
            "text/plain": [
              "<Axes: >"
            ]
          },
          "metadata": {},
          "execution_count": 100
        },
        {
          "output_type": "display_data",
          "data": {
            "text/plain": [
              "<Figure size 640x480 with 2 Axes>"
            ],
            "image/png": "[encoded data removed]"
          },
          "metadata": {}
        }
      ]
    },
    {
      "cell_type": "markdown",
      "source": [
        "On peut ainsi vérifier graphiquement qu'il ne manque aucune données"
      ],
      "metadata": {
        "id": "HYD87x5nuuJ_"
      }
    },
    {
      "cell_type": "markdown",
      "source": [
        "# Separation des données train et test"
      ],
      "metadata": {
        "id": "jHsUMY5azWhL"
      }
    },
    {
      "cell_type": "code",
      "source": [
        "from sklearn.model_selection import train_test_split\n",
        "X_train, X_test, y_train, y_test = train_test_split(dataset.drop('Bankrupt?',axis=1),\n",
        "                                                    dataset['Bankrupt?'], test_size=0.10,random_state=101)\n",
        "print(X_train.shape)\n",
        "print(X_test.shape)\n",
        "print(y_train.shape)\n",
        "print(y_test.shape)"
      ],
      "metadata": {
        "id": "lse14uTVzaqv",
        "colab": {
          "base_uri": "https://localhost:8080/"
        },
        "outputId": "fc96fddd-52bb-41a9-e977-6ec3144983a5"
      },
      "execution_count": null,
      "outputs": [
        {
          "output_type": "stream",
          "name": "stdout",
          "text": [
            "(6137, 93)\n",
            "(682, 93)\n",
            "(6137,)\n",
            "(682,)\n"
          ]
        }
      ]
    },
    {
      "cell_type": "markdown",
      "source": [],
      "metadata": {
        "id": "KLA2eiN_9yCB"
      }
    },
    {
      "cell_type": "markdown",
      "source": [
        "# Regression logitisque pour la classification"
      ],
      "metadata": {
        "id": "o5qluLOImyXR"
      }
    },
    {
      "cell_type": "code",
      "source": [
        "from sklearn.linear_model import LogisticRegression\n",
        "Logismodel = LogisticRegression(solver='liblinear')\n",
        "# entrainement\n",
        "Logismodel.fit(X_train,y_train) # calcul les différents teta du modèles (fonction sigmoide)"
      ],
      "metadata": {
        "colab": {
          "base_uri": "https://localhost:8080/",
          "height": 80
        },
        "id": "0hy8ZwfYm3jT",
        "outputId": "c39e51a9-0a01-42ef-f31c-170800f3146a"
      },
      "execution_count": null,
      "outputs": [
        {
          "output_type": "execute_result",
          "data": {
            "text/plain": [
              "LogisticRegression(solver='liblinear')"
            ],
            "text/html": [
              "<style>#sk-container-id-5 {\n",
              "  /* Definition of color scheme common for light and dark mode */\n",
              "  --sklearn-color-text: black;\n",
              "  --sklearn-color-line: gray;\n",
              "  /* Definition of color scheme for unfitted estimators */\n",
              "  --sklearn-color-unfitted-level-0: #fff5e6;\n",
              "  --sklearn-color-unfitted-level-1: #f6e4d2;\n",
              "  --sklearn-color-unfitted-level-2: #ffe0b3;\n",
              "  --sklearn-color-unfitted-level-3: chocolate;\n",
              "  /* Definition of color scheme for fitted estimators */\n",
              "  --sklearn-color-fitted-level-0: #f0f8ff;\n",
              "  --sklearn-color-fitted-level-1: #d4ebff;\n",
              "  --sklearn-color-fitted-level-2: #b3dbfd;\n",
              "  --sklearn-color-fitted-level-3: cornflowerblue;\n",
              "\n",
              "  /* Specific color for light theme */\n",
              "  --sklearn-color-text-on-default-background: var(--sg-text-color, var(--theme-code-foreground, var(--jp-content-font-color1, black)));\n",
              "  --sklearn-color-background: var(--sg-background-color, var(--theme-background, var(--jp-layout-color0, white)));\n",
              "  --sklearn-color-border-box: var(--sg-text-color, var(--theme-code-foreground, var(--jp-content-font-color1, black)));\n",
              "  --sklearn-color-icon: #696969;\n",
              "\n",
              "  @media (prefers-color-scheme: dark) {\n",
              "    /* Redefinition of color scheme for dark theme */\n",
              "    --sklearn-color-text-on-default-background: var(--sg-text-color, var(--theme-code-foreground, var(--jp-content-font-color1, white)));\n",
              "    --sklearn-color-background: var(--sg-background-color, var(--theme-background, var(--jp-layout-color0, #111)));\n",
              "    --sklearn-color-border-box: var(--sg-text-color, var(--theme-code-foreground, var(--jp-content-font-color1, white)));\n",
              "    --sklearn-color-icon: #878787;\n",
              "  }\n",
              "}\n",
              "\n",
              "#sk-container-id-5 {\n",
              "  color: var(--sklearn-color-text);\n",
              "}\n",
              "\n",
              "#sk-container-id-5 pre {\n",
              "  padding: 0;\n",
              "}\n",
              "\n",
              "#sk-container-id-5 input.sk-hidden--visually {\n",
              "  border: 0;\n",
              "  clip: rect(1px 1px 1px 1px);\n",
              "  clip: rect(1px, 1px, 1px, 1px);\n",
              "  height: 1px;\n",
              "  margin: -1px;\n",
              "  overflow: hidden;\n",
              "  padding: 0;\n",
              "  position: absolute;\n",
              "  width: 1px;\n",
              "}\n",
              "\n",
              "#sk-container-id-5 div.sk-dashed-wrapped {\n",
              "  border: 1px dashed var(--sklearn-color-line);\n",
              "  margin: 0 0.4em 0.5em 0.4em;\n",
              "  box-sizing: border-box;\n",
              "  padding-bottom: 0.4em;\n",
              "  background-color: var(--sklearn-color-background);\n",
              "}\n",
              "\n",
              "#sk-container-id-5 div.sk-container {\n",
              "  /* jupyter's `normalize.less` sets `[hidden] { display: none; }`\n",
              "     but bootstrap.min.css set `[hidden] { display: none !important; }`\n",
              "     so we also need the `!important` here to be able to override the\n",
              "     default hidden behavior on the sphinx rendered scikit-learn.org.\n",
              "     See: https://github.com/scikit-learn/scikit-learn/issues/21755 */\n",
              "  display: inline-block !important;\n",
              "  position: relative;\n",
              "}\n",
              "\n",
              "#sk-container-id-5 div.sk-text-repr-fallback {\n",
              "  display: none;\n",
              "}\n",
              "\n",
              "div.sk-parallel-item,\n",
              "div.sk-serial,\n",
              "div.sk-item {\n",
              "  /* draw centered vertical line to link estimators */\n",
              "  background-image: linear-gradient(var(--sklearn-color-text-on-default-background), var(--sklearn-color-text-on-default-background));\n",
              "  background-size: 2px 100%;\n",
              "  background-repeat: no-repeat;\n",
              "  background-position: center center;\n",
              "}\n",
              "\n",
              "/* Parallel-specific style estimator block */\n",
              "\n",
              "#sk-container-id-5 div.sk-parallel-item::after {\n",
              "  content: \"\";\n",
              "  width: 100%;\n",
              "  border-bottom: 2px solid var(--sklearn-color-text-on-default-background);\n",
              "  flex-grow: 1;\n",
              "}\n",
              "\n",
              "#sk-container-id-5 div.sk-parallel {\n",
              "  display: flex;\n",
              "  align-items: stretch;\n",
              "  justify-content: center;\n",
              "  background-color: var(--sklearn-color-background);\n",
              "  position: relative;\n",
              "}\n",
              "\n",
              "#sk-container-id-5 div.sk-parallel-item {\n",
              "  display: flex;\n",
              "  flex-direction: column;\n",
              "}\n",
              "\n",
              "#sk-container-id-5 div.sk-parallel-item:first-child::after {\n",
              "  align-self: flex-end;\n",
              "  width: 50%;\n",
              "}\n",
              "\n",
              "#sk-container-id-5 div.sk-parallel-item:last-child::after {\n",
              "  align-self: flex-start;\n",
              "  width: 50%;\n",
              "}\n",
              "\n",
              "#sk-container-id-5 div.sk-parallel-item:only-child::after {\n",
              "  width: 0;\n",
              "}\n",
              "\n",
              "/* Serial-specific style estimator block */\n",
              "\n",
              "#sk-container-id-5 div.sk-serial {\n",
              "  display: flex;\n",
              "  flex-direction: column;\n",
              "  align-items: center;\n",
              "  background-color: var(--sklearn-color-background);\n",
              "  padding-right: 1em;\n",
              "  padding-left: 1em;\n",
              "}\n",
              "\n",
              "\n",
              "/* Toggleable style: style used for estimator/Pipeline/ColumnTransformer box that is\n",
              "clickable and can be expanded/collapsed.\n",
              "- Pipeline and ColumnTransformer use this feature and define the default style\n",
              "- Estimators will overwrite some part of the style using the `sk-estimator` class\n",
              "*/\n",
              "\n",
              "/* Pipeline and ColumnTransformer style (default) */\n",
              "\n",
              "#sk-container-id-5 div.sk-toggleable {\n",
              "  /* Default theme specific background. It is overwritten whether we have a\n",
              "  specific estimator or a Pipeline/ColumnTransformer */\n",
              "  background-color: var(--sklearn-color-background);\n",
              "}\n",
              "\n",
              "/* Toggleable label */\n",
              "#sk-container-id-5 label.sk-toggleable__label {\n",
              "  cursor: pointer;\n",
              "  display: block;\n",
              "  width: 100%;\n",
              "  margin-bottom: 0;\n",
              "  padding: 0.5em;\n",
              "  box-sizing: border-box;\n",
              "  text-align: center;\n",
              "}\n",
              "\n",
              "#sk-container-id-5 label.sk-toggleable__label-arrow:before {\n",
              "  /* Arrow on the left of the label */\n",
              "  content: \"▸\";\n",
              "  float: left;\n",
              "  margin-right: 0.25em;\n",
              "  color: var(--sklearn-color-icon);\n",
              "}\n",
              "\n",
              "#sk-container-id-5 label.sk-toggleable__label-arrow:hover:before {\n",
              "  color: var(--sklearn-color-text);\n",
              "}\n",
              "\n",
              "/* Toggleable content - dropdown */\n",
              "\n",
              "#sk-container-id-5 div.sk-toggleable__content {\n",
              "  max-height: 0;\n",
              "  max-width: 0;\n",
              "  overflow: hidden;\n",
              "  text-align: left;\n",
              "  /* unfitted */\n",
              "  background-color: var(--sklearn-color-unfitted-level-0);\n",
              "}\n",
              "\n",
              "#sk-container-id-5 div.sk-toggleable__content.fitted {\n",
              "  /* fitted */\n",
              "  background-color: var(--sklearn-color-fitted-level-0);\n",
              "}\n",
              "\n",
              "#sk-container-id-5 div.sk-toggleable__content pre {\n",
              "  margin: 0.2em;\n",
              "  border-radius: 0.25em;\n",
              "  color: var(--sklearn-color-text);\n",
              "  /* unfitted */\n",
              "  background-color: var(--sklearn-color-unfitted-level-0);\n",
              "}\n",
              "\n",
              "#sk-container-id-5 div.sk-toggleable__content.fitted pre {\n",
              "  /* unfitted */\n",
              "  background-color: var(--sklearn-color-fitted-level-0);\n",
              "}\n",
              "\n",
              "#sk-container-id-5 input.sk-toggleable__control:checked~div.sk-toggleable__content {\n",
              "  /* Expand drop-down */\n",
              "  max-height: 200px;\n",
              "  max-width: 100%;\n",
              "  overflow: auto;\n",
              "}\n",
              "\n",
              "#sk-container-id-5 input.sk-toggleable__control:checked~label.sk-toggleable__label-arrow:before {\n",
              "  content: \"▾\";\n",
              "}\n",
              "\n",
              "/* Pipeline/ColumnTransformer-specific style */\n",
              "\n",
              "#sk-container-id-5 div.sk-label input.sk-toggleable__control:checked~label.sk-toggleable__label {\n",
              "  color: var(--sklearn-color-text);\n",
              "  background-color: var(--sklearn-color-unfitted-level-2);\n",
              "}\n",
              "\n",
              "#sk-container-id-5 div.sk-label.fitted input.sk-toggleable__control:checked~label.sk-toggleable__label {\n",
              "  background-color: var(--sklearn-color-fitted-level-2);\n",
              "}\n",
              "\n",
              "/* Estimator-specific style */\n",
              "\n",
              "/* Colorize estimator box */\n",
              "#sk-container-id-5 div.sk-estimator input.sk-toggleable__control:checked~label.sk-toggleable__label {\n",
              "  /* unfitted */\n",
              "  background-color: var(--sklearn-color-unfitted-level-2);\n",
              "}\n",
              "\n",
              "#sk-container-id-5 div.sk-estimator.fitted input.sk-toggleable__control:checked~label.sk-toggleable__label {\n",
              "  /* fitted */\n",
              "  background-color: var(--sklearn-color-fitted-level-2);\n",
              "}\n",
              "\n",
              "#sk-container-id-5 div.sk-label label.sk-toggleable__label,\n",
              "#sk-container-id-5 div.sk-label label {\n",
              "  /* The background is the default theme color */\n",
              "  color: var(--sklearn-color-text-on-default-background);\n",
              "}\n",
              "\n",
              "/* On hover, darken the color of the background */\n",
              "#sk-container-id-5 div.sk-label:hover label.sk-toggleable__label {\n",
              "  color: var(--sklearn-color-text);\n",
              "  background-color: var(--sklearn-color-unfitted-level-2);\n",
              "}\n",
              "\n",
              "/* Label box, darken color on hover, fitted */\n",
              "#sk-container-id-5 div.sk-label.fitted:hover label.sk-toggleable__label.fitted {\n",
              "  color: var(--sklearn-color-text);\n",
              "  background-color: var(--sklearn-color-fitted-level-2);\n",
              "}\n",
              "\n",
              "/* Estimator label */\n",
              "\n",
              "#sk-container-id-5 div.sk-label label {\n",
              "  font-family: monospace;\n",
              "  font-weight: bold;\n",
              "  display: inline-block;\n",
              "  line-height: 1.2em;\n",
              "}\n",
              "\n",
              "#sk-container-id-5 div.sk-label-container {\n",
              "  text-align: center;\n",
              "}\n",
              "\n",
              "/* Estimator-specific */\n",
              "#sk-container-id-5 div.sk-estimator {\n",
              "  font-family: monospace;\n",
              "  border: 1px dotted var(--sklearn-color-border-box);\n",
              "  border-radius: 0.25em;\n",
              "  box-sizing: border-box;\n",
              "  margin-bottom: 0.5em;\n",
              "  /* unfitted */\n",
              "  background-color: var(--sklearn-color-unfitted-level-0);\n",
              "}\n",
              "\n",
              "#sk-container-id-5 div.sk-estimator.fitted {\n",
              "  /* fitted */\n",
              "  background-color: var(--sklearn-color-fitted-level-0);\n",
              "}\n",
              "\n",
              "/* on hover */\n",
              "#sk-container-id-5 div.sk-estimator:hover {\n",
              "  /* unfitted */\n",
              "  background-color: var(--sklearn-color-unfitted-level-2);\n",
              "}\n",
              "\n",
              "#sk-container-id-5 div.sk-estimator.fitted:hover {\n",
              "  /* fitted */\n",
              "  background-color: var(--sklearn-color-fitted-level-2);\n",
              "}\n",
              "\n",
              "/* Specification for estimator info (e.g. \"i\" and \"?\") */\n",
              "\n",
              "/* Common style for \"i\" and \"?\" */\n",
              "\n",
              ".sk-estimator-doc-link,\n",
              "a:link.sk-estimator-doc-link,\n",
              "a:visited.sk-estimator-doc-link {\n",
              "  float: right;\n",
              "  font-size: smaller;\n",
              "  line-height: 1em;\n",
              "  font-family: monospace;\n",
              "  background-color: var(--sklearn-color-background);\n",
              "  border-radius: 1em;\n",
              "  height: 1em;\n",
              "  width: 1em;\n",
              "  text-decoration: none !important;\n",
              "  margin-left: 1ex;\n",
              "  /* unfitted */\n",
              "  border: var(--sklearn-color-unfitted-level-1) 1pt solid;\n",
              "  color: var(--sklearn-color-unfitted-level-1);\n",
              "}\n",
              "\n",
              ".sk-estimator-doc-link.fitted,\n",
              "a:link.sk-estimator-doc-link.fitted,\n",
              "a:visited.sk-estimator-doc-link.fitted {\n",
              "  /* fitted */\n",
              "  border: var(--sklearn-color-fitted-level-1) 1pt solid;\n",
              "  color: var(--sklearn-color-fitted-level-1);\n",
              "}\n",
              "\n",
              "/* On hover */\n",
              "div.sk-estimator:hover .sk-estimator-doc-link:hover,\n",
              ".sk-estimator-doc-link:hover,\n",
              "div.sk-label-container:hover .sk-estimator-doc-link:hover,\n",
              ".sk-estimator-doc-link:hover {\n",
              "  /* unfitted */\n",
              "  background-color: var(--sklearn-color-unfitted-level-3);\n",
              "  color: var(--sklearn-color-background);\n",
              "  text-decoration: none;\n",
              "}\n",
              "\n",
              "div.sk-estimator.fitted:hover .sk-estimator-doc-link.fitted:hover,\n",
              ".sk-estimator-doc-link.fitted:hover,\n",
              "div.sk-label-container:hover .sk-estimator-doc-link.fitted:hover,\n",
              ".sk-estimator-doc-link.fitted:hover {\n",
              "  /* fitted */\n",
              "  background-color: var(--sklearn-color-fitted-level-3);\n",
              "  color: var(--sklearn-color-background);\n",
              "  text-decoration: none;\n",
              "}\n",
              "\n",
              "/* Span, style for the box shown on hovering the info icon */\n",
              ".sk-estimator-doc-link span {\n",
              "  display: none;\n",
              "  z-index: 9999;\n",
              "  position: relative;\n",
              "  font-weight: normal;\n",
              "  right: .2ex;\n",
              "  padding: .5ex;\n",
              "  margin: .5ex;\n",
              "  width: min-content;\n",
              "  min-width: 20ex;\n",
              "  max-width: 50ex;\n",
              "  color: var(--sklearn-color-text);\n",
              "  box-shadow: 2pt 2pt 4pt #999;\n",
              "  /* unfitted */\n",
              "  background: var(--sklearn-color-unfitted-level-0);\n",
              "  border: .5pt solid var(--sklearn-color-unfitted-level-3);\n",
              "}\n",
              "\n",
              ".sk-estimator-doc-link.fitted span {\n",
              "  /* fitted */\n",
              "  background: var(--sklearn-color-fitted-level-0);\n",
              "  border: var(--sklearn-color-fitted-level-3);\n",
              "}\n",
              "\n",
              ".sk-estimator-doc-link:hover span {\n",
              "  display: block;\n",
              "}\n",
              "\n",
              "/* \"?\"-specific style due to the `<a>` HTML tag */\n",
              "\n",
              "#sk-container-id-5 a.estimator_doc_link {\n",
              "  float: right;\n",
              "  font-size: 1rem;\n",
              "  line-height: 1em;\n",
              "  font-family: monospace;\n",
              "  background-color: var(--sklearn-color-background);\n",
              "  border-radius: 1rem;\n",
              "  height: 1rem;\n",
              "  width: 1rem;\n",
              "  text-decoration: none;\n",
              "  /* unfitted */\n",
              "  color: var(--sklearn-color-unfitted-level-1);\n",
              "  border: var(--sklearn-color-unfitted-level-1) 1pt solid;\n",
              "}\n",
              "\n",
              "#sk-container-id-5 a.estimator_doc_link.fitted {\n",
              "  /* fitted */\n",
              "  border: var(--sklearn-color-fitted-level-1) 1pt solid;\n",
              "  color: var(--sklearn-color-fitted-level-1);\n",
              "}\n",
              "\n",
              "/* On hover */\n",
              "#sk-container-id-5 a.estimator_doc_link:hover {\n",
              "  /* unfitted */\n",
              "  background-color: var(--sklearn-color-unfitted-level-3);\n",
              "  color: var(--sklearn-color-background);\n",
              "  text-decoration: none;\n",
              "}\n",
              "\n",
              "#sk-container-id-5 a.estimator_doc_link.fitted:hover {\n",
              "  /* fitted */\n",
              "  background-color: var(--sklearn-color-fitted-level-3);\n",
              "}\n",
              "</style><div id=\"sk-container-id-5\" class=\"sk-top-container\"><div class=\"sk-text-repr-fallback\"><pre>LogisticRegression(solver=&#x27;liblinear&#x27;)</pre><b>In a Jupyter environment, please rerun this cell to show the HTML representation or trust the notebook. <br />On GitHub, the HTML representation is unable to render, please try loading this page with nbviewer.org.</b></div><div class=\"sk-container\" hidden><div class=\"sk-item\"><div class=\"sk-estimator fitted sk-toggleable\"><input class=\"sk-toggleable__control sk-hidden--visually\" id=\"sk-estimator-id-5\" type=\"checkbox\" checked><label for=\"sk-estimator-id-5\" class=\"sk-toggleable__label fitted sk-toggleable__label-arrow fitted\">&nbsp;&nbsp;LogisticRegression<a class=\"sk-estimator-doc-link fitted\" rel=\"noreferrer\" target=\"_blank\" href=\"https://scikit-learn.org/1.5/modules/generated/sklearn.linear_model.LogisticRegression.html\">?<span>Documentation for LogisticRegression</span></a><span class=\"sk-estimator-doc-link fitted\">i<span>Fitted</span></span></label><div class=\"sk-toggleable__content fitted\"><pre>LogisticRegression(solver=&#x27;liblinear&#x27;)</pre></div> </div></div></div></div>"
            ]
          },
          "metadata": {},
          "execution_count": 102
        }
      ]
    },
    {
      "cell_type": "markdown",
      "source": [
        "# Evaluation"
      ],
      "metadata": {
        "id": "Ub3Nurog3dow"
      }
    },
    {
      "cell_type": "code",
      "source": [
        "predictions = Logismodel.predict(X_test)\n",
        "from sklearn.metrics import classification_report #rapport de classification\n",
        "print(classification_report(y_test,predictions)) # on compte les valeurs réelles et les prédictions"
      ],
      "metadata": {
        "colab": {
          "base_uri": "https://localhost:8080/"
        },
        "id": "ukwd11Nv520G",
        "outputId": "b6017d4d-a26c-4ef8-84f9-f02521f95d13"
      },
      "execution_count": null,
      "outputs": [
        {
          "output_type": "stream",
          "name": "stdout",
          "text": [
            "              precision    recall  f1-score   support\n",
            "\n",
            "           0       0.97      1.00      0.98       660\n",
            "           1       0.00      0.00      0.00        22\n",
            "\n",
            "    accuracy                           0.96       682\n",
            "   macro avg       0.48      0.50      0.49       682\n",
            "weighted avg       0.94      0.96      0.95       682\n",
            "\n"
          ]
        }
      ]
    },
    {
      "cell_type": "markdown",
      "source": [
        "Le modèle n'est parvenu à prédire aucune entreprise en faillite, 2 possibilités : Sois mon code est mauvais (très propable), sois mon dataset contient trop peu d'entreprise en faillite pour l'entrainement du modèle. Je vais reesayer de prédire cela avec des arbres de décisions.  "
      ],
      "metadata": {
        "id": "neP8LrKmom3Y"
      }
    },
    {
      "cell_type": "code",
      "source": [
        "from sklearn.metrics import confusion_matrix\n",
        "print(confusion_matrix(y_test,predictions))\n",
        "tn, tp, fn, fp = confusion_matrix(y_test,predictions).ravel()\n",
        "print(tn, tp, fn, fp)"
      ],
      "metadata": {
        "colab": {
          "base_uri": "https://localhost:8080/"
        },
        "id": "5FXpNQrT6vzQ",
        "outputId": "0c4eaabd-743b-4a27-894f-1eac4cf47afb"
      },
      "execution_count": null,
      "outputs": [
        {
          "output_type": "stream",
          "name": "stdout",
          "text": [
            "[[658   2]\n",
            " [ 22   0]]\n",
            "658 2 22 0\n"
          ]
        }
      ]
    },
    {
      "cell_type": "code",
      "source": [
        "from sklearn.metrics import RocCurveDisplay\n",
        "fpr, tpr, thresholds = roc_curve(y_test, Logismodel.predict_proba(X_test)[:, 1])\n",
        "roc_display = RocCurveDisplay(fpr=fpr, tpr=tpr).plot()\n",
        "plt.show()"
      ],
      "metadata": {
        "colab": {
          "base_uri": "https://localhost:8080/",
          "height": 488
        },
        "id": "N34SaAy57Pf_",
        "outputId": "64ae4484-ac79-470f-da7a-d4d91d100295"
      },
      "execution_count": null,
      "outputs": [
        {
          "output_type": "stream",
          "name": "stderr",
          "text": [
            "WARNING:matplotlib.legend:No artists with labels found to put in legend.  Note that artists whose label start with an underscore are ignored when legend() is called with no argument.\n"
          ]
        },
        {
          "output_type": "display_data",
          "data": {
            "text/plain": [
              "<Figure size 640x480 with 1 Axes>"
            ],
            "image/png": "[encoded data removed]"
          },
          "metadata": {}
        }
      ]
    },
    {
      "cell_type": "markdown",
      "source": [
        "Essayer -> Forêts aléatoires (Random Forests) ou Arbres de décision (Decision Trees) ou reseau neuronne\n",
        "\n"
      ],
      "metadata": {
        "id": "9cXxqaQ99zBm"
      }
    },
    {
      "cell_type": "code",
      "source": [],
      "metadata": {
        "id": "zqEENtQS90qK"
      },
      "execution_count": null,
      "outputs": []
    }
  ]
}